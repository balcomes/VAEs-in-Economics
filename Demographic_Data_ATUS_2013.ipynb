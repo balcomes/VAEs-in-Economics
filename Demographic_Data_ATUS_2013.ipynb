{
  "nbformat": 4,
  "nbformat_minor": 0,
  "metadata": {
    "colab": {
      "name": "Demographic Data ATUS 2013.ipynb",
      "provenance": [],
      "collapsed_sections": [],
      "include_colab_link": true
    },
    "kernelspec": {
      "name": "python3",
      "display_name": "Python 3"
    },
    "accelerator": "GPU"
  },
  "cells": [
    {
      "cell_type": "markdown",
      "metadata": {
        "id": "view-in-github",
        "colab_type": "text"
      },
      "source": [
        "<a href=\"https://colab.research.google.com/github/josephyaconelli/VAEs-in-Economics/blob/master/Demographic_Data_ATUS_2013.ipynb\" target=\"_parent\"><img src=\"https://colab.research.google.com/assets/colab-badge.svg\" alt=\"Open In Colab\"/></a>"
      ]
    },
    {
      "cell_type": "code",
      "metadata": {
        "id": "xV7BCXOzIHxe",
        "colab_type": "code",
        "colab": {}
      },
      "source": [
        "import pandas as pd \n",
        "import numpy as np \n",
        "\n",
        "# data\n",
        "df = pd.read_csv('https://raw.githubusercontent.com/yaniv256/VAEs-in-Economics/master/Data/Timeuse/atussum_2013/atussum_2013.dat')\n"
      ],
      "execution_count": 0,
      "outputs": []
    },
    {
      "cell_type": "code",
      "metadata": {
        "id": "0yQQSKnYIdJo",
        "colab_type": "code",
        "outputId": "aa1800bf-00e9-47e4-e2a7-668264b04937",
        "colab": {
          "base_uri": "https://localhost:8080/",
          "height": 99
        }
      },
      "source": [
        "from keras.utils import to_categorical\n",
        "\n",
        "#GTMETSTA (Metropolitan Status)\n",
        "catGTMETSTA = to_categorical(df['GTMETSTA'])\n",
        "\n",
        "metropolitan = catGTMETSTA[:,1]\n",
        "nonMetropolitan = catGTMETSTA[:,2]"
      ],
      "execution_count": 0,
      "outputs": [
        {
          "output_type": "stream",
          "text": [
            "Using TensorFlow backend.\n"
          ],
          "name": "stderr"
        },
        {
          "output_type": "display_data",
          "data": {
            "text/html": [
              "<p style=\"color: red;\">\n",
              "The default version of TensorFlow in Colab will soon switch to TensorFlow 2.x.<br>\n",
              "We recommend you <a href=\"https://www.tensorflow.org/guide/migrate\" target=\"_blank\">upgrade</a> now \n",
              "or ensure your notebook will continue to use TensorFlow 1.x via the <code>%tensorflow_version 1.x</code> magic:\n",
              "<a href=\"https://colab.research.google.com/notebooks/tensorflow_version.ipynb\" target=\"_blank\">more info</a>.</p>\n"
            ],
            "text/plain": [
              "<IPython.core.display.HTML object>"
            ]
          },
          "metadata": {
            "tags": []
          }
        }
      ]
    },
    {
      "cell_type": "code",
      "metadata": {
        "id": "iGkbDWGp37_5",
        "colab_type": "code",
        "colab": {}
      },
      "source": [
        "\n",
        "#PEEDUCA\n",
        "peeduca = df['PEEDUCA']\n",
        "\n",
        "peeducaMap = {\n",
        "  31: 'Less than 1st grade',\n",
        "  32: '1st, 2nd, 3rd, or 4th grade',\n",
        "  33: '5th or 6th grade',\n",
        "  34: '7th or 8th grade',\n",
        "  35: '9th grade',\n",
        "  36: '10th grade',\n",
        "  37: '11th grade',\n",
        "  38: '12th grade - no diploma',\n",
        "  39: 'High school graduate - diploma or equivalent (GED)',\n",
        "  40: 'Some college but no degree',\n",
        "  41: 'Associate degree - occupational/vocational',\n",
        "  42: 'Associate degree - academic program',\n",
        "  43: 'Bachelors degree (BA, AB, BS, etc.)',\n",
        "  44: 'Masters degree (MA, MS, MEng, MEd, MSW, etc.)',\n",
        "  45: 'Professional school degree (MD, DDS, DVM, etc.)',\n",
        "  46: 'Doctoral degree (PhD, EdD, etc.)'\n",
        "}\n",
        "\n",
        "mappedPEEDUCA = peeduca.map(peeducaMap)\n",
        "education = pd.get_dummies(mappedPEEDUCA)"
      ],
      "execution_count": 0,
      "outputs": []
    },
    {
      "cell_type": "code",
      "metadata": {
        "id": "DsMf2feb6SZX",
        "colab_type": "code",
        "outputId": "0824819e-9e76-41e3-ba16-880f8a50f19f",
        "colab": {
          "base_uri": "https://localhost:8080/",
          "height": 225
        }
      },
      "source": [
        "# PEHSPNON\n",
        "\n",
        "hispanic = df['PEHSPNON'] == 1\n",
        "hispanic = hispanic.astype(\"float32\")\n",
        "hispanic.name = \"Hispanic\"\n",
        "print(hispanic)"
      ],
      "execution_count": 0,
      "outputs": [
        {
          "output_type": "stream",
          "text": [
            "0        0.0\n",
            "1        0.0\n",
            "2        0.0\n",
            "3        1.0\n",
            "4        0.0\n",
            "        ... \n",
            "11380    0.0\n",
            "11381    1.0\n",
            "11382    1.0\n",
            "11383    0.0\n",
            "11384    1.0\n",
            "Name: Hispanic, Length: 11385, dtype: float32\n"
          ],
          "name": "stdout"
        }
      ]
    },
    {
      "cell_type": "code",
      "metadata": {
        "id": "Mtj_JRAp6_XE",
        "colab_type": "code",
        "outputId": "98a24bfb-40e4-4973-82ce-31084e087e30",
        "colab": {
          "base_uri": "https://localhost:8080/",
          "height": 364
        }
      },
      "source": [
        "# PTDTRACE\n",
        "\n",
        "raceDf = df['PTDTRACE']\n",
        "raceMap = {\n",
        "    1: 'White only',\n",
        "    2: 'Black only',\n",
        "    3: 'American Indian, Alaskan Native only',\n",
        "    4: 'Asian only',\n",
        "    5: 'Hawaiian/Pacific Islander only',\n",
        "    6: 'White-Black',\n",
        "    7: 'White-American Indian',\n",
        "    8: 'White-Asian',\n",
        "    9: 'White-Hawaiian',\n",
        "    10: 'Black-American Indian',\n",
        "    11: 'Black-Asian',\n",
        "    12: 'Black-Hawaiian',\n",
        "    13: 'American Indian-Asian',\n",
        "    14: 'Multi-Race',\n",
        "    15: 'Multi-Race',\n",
        "    16: 'Multi-Race',\n",
        "    17: 'Multi-Race',\n",
        "    18: 'Multi-Race',\n",
        "    19: 'Multi-Race',\n",
        "    20: 'Multi-Race',\n",
        "    21: 'Multi-Race',\n",
        "    22: 'Multi-Race',\n",
        "    23: 'Multi-Race',\n",
        "    24: 'Multi-Race',\n",
        "    25: 'Multi-Race',\n",
        "    26: 'Multi-Race',\n",
        "\n",
        "}\n",
        "\n",
        "mappedRace = raceDf.map(raceMap)\n",
        "race = pd.get_dummies(mappedRace)\n",
        "print(np.mean(race))\n",
        "print(race.columns)"
      ],
      "execution_count": 0,
      "outputs": [
        {
          "output_type": "stream",
          "text": [
            "American Indian, Alaskan Native only    0.008783\n",
            "Asian only                              0.037330\n",
            "Black only                              0.150637\n",
            "Black-American Indian                   0.000966\n",
            "Black-Asian                             0.000351\n",
            "Black-Hawaiian                          0.000088\n",
            "Hawaiian/Pacific Islander only          0.001845\n",
            "Multi-Race                              0.000878\n",
            "White only                              0.788494\n",
            "White-American Indian                   0.006500\n",
            "White-Asian                             0.001318\n",
            "White-Black                             0.002459\n",
            "White-Hawaiian                          0.000351\n",
            "dtype: float64\n",
            "Index(['American Indian, Alaskan Native only', 'Asian only', 'Black only',\n",
            "       'Black-American Indian', 'Black-Asian', 'Black-Hawaiian',\n",
            "       'Hawaiian/Pacific Islander only', 'Multi-Race', 'White only',\n",
            "       'White-American Indian', 'White-Asian', 'White-Black',\n",
            "       'White-Hawaiian'],\n",
            "      dtype='object')\n"
          ],
          "name": "stdout"
        }
      ]
    },
    {
      "cell_type": "code",
      "metadata": {
        "id": "y39tsWWQ8PSg",
        "colab_type": "code",
        "outputId": "a61a24fb-b1e2-44d0-cef0-adc34c82c1c1",
        "colab": {
          "base_uri": "https://localhost:8080/",
          "height": 756
        }
      },
      "source": [
        "# Age\n",
        "from sklearn.preprocessing import QuantileTransformer\n",
        "import matplotlib.pyplot as plt\n",
        "\n",
        "\n",
        "ageDf = df['TEAGE']\n",
        "ageDf.plot.hist(bins=12, alpha=0.5)\n",
        "ageDf = ageDf.values.reshape(-1, 1)\n",
        "qt_trans = QuantileTransformer(n_quantiles=1000, random_state=0)\n",
        "age = pd.DataFrame(qt_trans.fit_transform(ageDf))\n",
        "age.columns = ['Age']\n",
        "age.plot.hist(bins=12, alpha=0.5)\n",
        "\n",
        "print(age)\n"
      ],
      "execution_count": 0,
      "outputs": [
        {
          "output_type": "stream",
          "text": [
            "            Age\n",
            "0      0.073574\n",
            "1      0.341341\n",
            "2      0.487988\n",
            "3      0.540541\n",
            "4      0.454955\n",
            "...         ...\n",
            "11380  1.000000\n",
            "11381  0.719219\n",
            "11382  0.417417\n",
            "11383  0.505506\n",
            "11384  0.360360\n",
            "\n",
            "[11385 rows x 1 columns]\n"
          ],
          "name": "stdout"
        },
        {
          "output_type": "display_data",
          "data": {
            "image/png": "[encoded data removed]",
            "text/plain": [
              "<Figure size 432x288 with 1 Axes>"
            ]
          },
          "metadata": {
            "tags": []
          }
        },
        {
          "output_type": "display_data",
          "data": {
            "image/png": "[encoded data removed]",
            "text/plain": [
              "<Figure size 432x288 with 1 Axes>"
            ]
          },
          "metadata": {
            "tags": []
          }
        }
      ]
    },
    {
      "cell_type": "code",
      "metadata": {
        "id": "OKa9HT4BC6S-",
        "colab_type": "code",
        "outputId": "28666bd1-e9a8-4d48-bb6e-2d728e344661",
        "colab": {
          "base_uri": "https://localhost:8080/",
          "height": 531
        }
      },
      "source": [
        "# Hours Worked\n",
        "\n",
        "hoursWorkedDf = df['TEHRUSLT']\n",
        "hoursWorkedDf.plot.hist(bins=12, alpha=0.5)\n",
        "hoursWorkedDf = ageDf.reshape(-1, 1)\n",
        "qt_trans = QuantileTransformer(n_quantiles=1000, random_state=0)\n",
        "hoursWorked = pd.DataFrame(qt_trans.fit_transform(hoursWorkedDf))\n",
        "hoursWorked.columns = ['total hours usually worked per week']\n",
        "hoursWorked.plot.hist(bins=12, alpha=0.5)"
      ],
      "execution_count": 0,
      "outputs": [
        {
          "output_type": "execute_result",
          "data": {
            "text/plain": [
              "<matplotlib.axes._subplots.AxesSubplot at 0x7fdc46b34c88>"
            ]
          },
          "metadata": {
            "tags": []
          },
          "execution_count": 7
        },
        {
          "output_type": "display_data",
          "data": {
            "image/png": "[encoded data removed]",
            "text/plain": [
              "<Figure size 432x288 with 1 Axes>"
            ]
          },
          "metadata": {
            "tags": []
          }
        },
        {
          "output_type": "display_data",
          "data": {
            "image/png": "[encoded data removed]",
            "text/plain": [
              "<Figure size 432x288 with 1 Axes>"
            ]
          },
          "metadata": {
            "tags": []
          }
        }
      ]
    },
    {
      "cell_type": "code",
      "metadata": {
        "id": "bNPIU777Dgfg",
        "colab_type": "code",
        "outputId": "6823f6c3-93c0-4afd-b1be-f77f2901a7f0",
        "colab": {
          "base_uri": "https://localhost:8080/",
          "height": 121
        }
      },
      "source": [
        "# Employement Status\n",
        "\n",
        "employementStatusDf = df['TELFS']\n",
        "employmentStatusMap = {\n",
        "  1: 'Employed - at work',\n",
        "  2: 'Employed - absent',\n",
        "  3: 'Unemployed - on layoff',\n",
        "  4: 'Unemployed - looking',\n",
        "  5: 'Not in labor force',\n",
        "}\n",
        "mappedES = employementStatusDf.map(employmentStatusMap)\n",
        "employementStatus = pd.get_dummies(mappedES)\n",
        "print(np.mean(employementStatus))"
      ],
      "execution_count": 0,
      "outputs": [
        {
          "output_type": "stream",
          "text": [
            "Employed - absent         0.025911\n",
            "Employed - at work        0.573474\n",
            "Not in labor force        0.348265\n",
            "Unemployed - looking      0.048134\n",
            "Unemployed - on layoff    0.004216\n",
            "dtype: float64\n"
          ],
          "name": "stdout"
        }
      ]
    },
    {
      "cell_type": "code",
      "metadata": {
        "id": "VI0GMKPOEL5f",
        "colab_type": "code",
        "outputId": "73f4bad9-2ba6-4dff-d46d-9fd83ba69a10",
        "colab": {
          "base_uri": "https://localhost:8080/",
          "height": 225
        }
      },
      "source": [
        "# Work more than one job\n",
        "mtoJob = df['TEMJOT'] == 1\n",
        "mtoJob = mtoJob.astype(\"float32\")\n",
        "mtoJob.name = \"in the last seven days did you have more than one job? - yes\"\n",
        "print(mtoJob)\n"
      ],
      "execution_count": 0,
      "outputs": [
        {
          "output_type": "stream",
          "text": [
            "0        0.0\n",
            "1        0.0\n",
            "2        0.0\n",
            "3        0.0\n",
            "4        1.0\n",
            "        ... \n",
            "11380    0.0\n",
            "11381    0.0\n",
            "11382    0.0\n",
            "11383    0.0\n",
            "11384    0.0\n",
            "Name: in the last seven days did you have more than one job? - yes, Length: 11385, dtype: float32\n"
          ],
          "name": "stdout"
        }
      ]
    },
    {
      "cell_type": "code",
      "metadata": {
        "id": "Zvnx9dGAEtj9",
        "colab_type": "code",
        "outputId": "70a62572-effb-40c5-8e21-dc11dd00a807",
        "colab": {
          "base_uri": "https://localhost:8080/",
          "height": 35
        }
      },
      "source": [
        "# Enrolled in high school, college, or university\n",
        "enrolledInSchool = df['TESCHENR'] == 1\n",
        "enrolledInSchool = enrolledInSchool.astype(\"float32\")\n",
        "enrolledInSchool.name = \"Are you enrolled in high school, college, or university? - Yes\"\n",
        "print(np.mean(enrolledInSchool))"
      ],
      "execution_count": 0,
      "outputs": [
        {
          "output_type": "stream",
          "text": [
            "0.08739569783210754\n"
          ],
          "name": "stdout"
        }
      ]
    },
    {
      "cell_type": "code",
      "metadata": {
        "id": "lUWYTYBFFQ0s",
        "colab_type": "code",
        "outputId": "7535aace-489e-4930-d6e1-5b7f41eb608c",
        "colab": {
          "base_uri": "https://localhost:8080/",
          "height": 69
        }
      },
      "source": [
        "\n",
        "whatSchoolDf = df['TESCHLVL']\n",
        "whatSchoolMap = {\n",
        "  1: 'High school',\n",
        "  2: 'College or university',\n",
        "}\n",
        "mappedWhatSchool = whatSchoolDf.map(whatSchoolMap)\n",
        "whatSchool = pd.get_dummies(mappedWhatSchool)\n",
        "print(np.mean(whatSchool))\n"
      ],
      "execution_count": 0,
      "outputs": [
        {
          "output_type": "stream",
          "text": [
            "College or university    0.050944\n",
            "High school              0.036451\n",
            "dtype: float64\n"
          ],
          "name": "stdout"
        }
      ]
    },
    {
      "cell_type": "code",
      "metadata": {
        "id": "qDS_NtZ1Fvgq",
        "colab_type": "code",
        "outputId": "115da488-6b49-4021-f097-a29e52bb7f99",
        "colab": {
          "base_uri": "https://localhost:8080/",
          "height": 35
        }
      },
      "source": [
        "# Sex\n",
        "sexDf = df['TESEX'] == 2\n",
        "sex = sexDf.astype(\"float32\")\n",
        "sex.name = \"Sex, Female\"\n",
        "print(np.mean(sex))\n",
        "\n",
        "\n",
        "\n"
      ],
      "execution_count": 0,
      "outputs": [
        {
          "output_type": "stream",
          "text": [
            "0.5536231994628906\n"
          ],
          "name": "stdout"
        }
      ]
    },
    {
      "cell_type": "code",
      "metadata": {
        "id": "QWWRaRizF7oS",
        "colab_type": "code",
        "outputId": "e233ab1a-c10d-46bf-9200-1ba50f7ac0e0",
        "colab": {
          "base_uri": "https://localhost:8080/",
          "height": 35
        }
      },
      "source": [
        "# Emplyment of spouse\n",
        "employmentOfSpouseDF = df['TESPEMPNOT'] == 1\n",
        "employementOfSpouse = employmentOfSpouseDF.astype(\"float32\")\n",
        "employementOfSpouse.name = \"Employement of spouse, employed\"\n",
        "print(np.mean(employementOfSpouse))\n"
      ],
      "execution_count": 0,
      "outputs": [
        {
          "output_type": "stream",
          "text": [
            "0.34325867891311646\n"
          ],
          "name": "stdout"
        }
      ]
    },
    {
      "cell_type": "code",
      "metadata": {
        "id": "1fylHGPFGUgp",
        "colab_type": "code",
        "colab": {}
      },
      "source": [
        ""
      ],
      "execution_count": 0,
      "outputs": []
    }
  ]
}