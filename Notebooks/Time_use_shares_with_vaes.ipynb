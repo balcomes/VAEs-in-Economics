{
  "nbformat": 4,
  "nbformat_minor": 0,
  "metadata": {
    "kernelspec": {
      "name": "python3",
      "display_name": "Python 3"
    },
    "language_info": {
      "codemirror_mode": {
        "name": "ipython",
        "version": 3
      },
      "file_extension": ".py",
      "mimetype": "text/x-python",
      "name": "python",
      "nbconvert_exporter": "python",
      "pygments_lexer": "ipython3",
      "version": "3.7.3"
    },
    "colab": {
      "name": "Time-use-shares-with-vaes.ipynb",
      "provenance": [],
      "include_colab_link": true
    },
    "accelerator": "GPU"
  },
  "cells": [
    {
      "cell_type": "markdown",
      "metadata": {
        "id": "view-in-github",
        "colab_type": "text"
      },
      "source": [
        "<a href=\"https://colab.research.google.com/github/yaniv256/VAEs-in-Economics/blob/master/Notebooks/Time_use_shares_with_vaes.ipynb\" target=\"_parent\"><img src=\"https://colab.research.google.com/assets/colab-badge.svg\" alt=\"Open In Colab\"/></a>"
      ]
    },
    {
      "cell_type": "code",
      "metadata": {
        "id": "ENRXK80XnGty",
        "colab_type": "code",
        "outputId": "fb223059-9545-4321-bcea-1fc50cfbb25b",
        "colab": {
          "base_uri": "https://localhost:8080/",
          "height": 80
        }
      },
      "source": [
        "import tensorflow.keras\n",
        "tensorflow.keras.__version__"
      ],
      "execution_count": 1,
      "outputs": [
        {
          "output_type": "display_data",
          "data": {
            "text/html": [
              "<p style=\"color: red;\">\n",
              "The default version of TensorFlow in Colab will soon switch to TensorFlow 2.x.<br>\n",
              "We recommend you <a href=\"https://www.tensorflow.org/guide/migrate\" target=\"_blank\">upgrade</a> now \n",
              "or ensure your notebook will continue to use TensorFlow 1.x via the <code>%tensorflow_version 1.x</code> magic:\n",
              "<a href=\"https://colab.research.google.com/notebooks/tensorflow_version.ipynb\" target=\"_blank\">more info</a>.</p>\n"
            ],
            "text/plain": [
              "<IPython.core.display.HTML object>"
            ]
          },
          "metadata": {
            "tags": []
          }
        },
        {
          "output_type": "execute_result",
          "data": {
            "text/plain": [
              "'2.2.4-tf'"
            ]
          },
          "metadata": {
            "tags": []
          },
          "execution_count": 1
        }
      ]
    },
    {
      "cell_type": "code",
      "metadata": {
        "id": "EUPa7INVnGt4",
        "colab_type": "code",
        "colab": {}
      },
      "source": [
        "from tensorflow.keras import backend as K\n",
        "K.clear_session()"
      ],
      "execution_count": 0,
      "outputs": []
    },
    {
      "cell_type": "markdown",
      "metadata": {
        "id": "WJplcKv8nGt6",
        "colab_type": "text"
      },
      "source": [
        "# Generating images\n",
        "\n",
        "This notebook contains the second code sample found in Chapter 8, Section 4 of [Deep Learning with Python](https://www.manning.com/books/deep-learning-with-python?a_aid=keras&a_bid=76564dff). Note that the original text features far more content, in particular further explanations and figures: in this notebook, you will only find source code and related comments.\n",
        "\n",
        "---\n",
        "\n",
        "\n",
        "## Variational autoencoders\n",
        "\n",
        "\n",
        "Variational autoencoders, simultaneously discovered by Kingma & Welling in December 2013, and Rezende, Mohamed & Wierstra in January 2014, \n",
        "are a kind of generative model that is especially appropriate for the task of image editing via concept vectors. They are a modern take on \n",
        "autoencoders -- a type of network that aims to \"encode\" an input to a low-dimensional latent space then \"decode\" it back -- that mixes ideas \n",
        "from deep learning with Bayesian inference.\n",
        "\n",
        "A classical image autoencoder takes an image, maps it to a latent vector space via an \"encoder\" module, then decode it back to an output \n",
        "with the same dimensions as the original image, via a \"decoder\" module. It is then trained by using as target data the _same images_ as the \n",
        "input images, meaning that the autoencoder learns to reconstruct the original inputs. By imposing various constraints on the \"code\", i.e. \n",
        "the output of the encoder, one can get the autoencoder to learn more or less interesting latent representations of the data. Most \n",
        "commonly, one would constraint the code to be very low-dimensional and sparse (i.e. mostly zeros), in which case the encoder acts as a way \n",
        "to compress the input data into fewer bits of information."
      ]
    },
    {
      "cell_type": "markdown",
      "metadata": {
        "id": "8lrr0nMtnGt7",
        "colab_type": "text"
      },
      "source": [
        "![Autoencoder](https://s3.amazonaws.com/book.keras.io/img/ch8/autoencoder.jpg)"
      ]
    },
    {
      "cell_type": "markdown",
      "metadata": {
        "id": "FmLjpMHEnGt8",
        "colab_type": "text"
      },
      "source": [
        "\n",
        "In practice, such classical autoencoders don't lead to particularly useful or well-structured latent spaces. They're not particularly good \n",
        "at compression, either. For these reasons, they have largely fallen out of fashion over the past years. Variational autoencoders, however, \n",
        "augment autoencoders with a little bit of statistical magic that forces them to learn continuous, highly structured latent spaces. They \n",
        "have turned out to be a very powerful tool for image generation.\n",
        "\n",
        "A VAE, instead of compressing its input image into a fixed \"code\" in the latent space, turns the image into the parameters of a statistical \n",
        "distribution: a mean and a variance. Essentially, this means that we are assuming that the input image has been generated by a statistical \n",
        "process, and that the randomness of this process should be taken into accounting during encoding and decoding. The VAE then uses the mean \n",
        "and variance parameters to randomly sample one element of the distribution, and decodes that element back to the original input. The \n",
        "stochasticity of this process improves robustness and forces the latent space to encode meaningful representations everywhere, i.e. every \n",
        "point sampled in the latent will be decoded to a valid output."
      ]
    },
    {
      "cell_type": "markdown",
      "metadata": {
        "id": "HVezrEOpnGt9",
        "colab_type": "text"
      },
      "source": [
        "![VAE](https://s3.amazonaws.com/book.keras.io/img/ch8/vae.png)"
      ]
    },
    {
      "cell_type": "markdown",
      "metadata": {
        "id": "g1TDdE0MnGt-",
        "colab_type": "text"
      },
      "source": [
        "\n",
        "In technical terms, here is how a variational autoencoder works. First, an encoder module turns the input samples `input_img` into two \n",
        "parameters in a latent space of representations, which we will note `z_mean` and `z_log_variance`. Then, we randomly sample a point `z` \n",
        "from the latent normal distribution that is assumed to generate the input image, via `z = z_mean + exp(z_log_variance) * epsilon`, where \n",
        "epsilon is a random tensor of small values. Finally, a decoder module will map this point in the latent space back to the original input \n",
        "image. Because `epsilon` is random, the process ensures that every point that is close to the latent location where we encoded `input_img` \n",
        "(`z-mean`) can be decoded to something similar to `input_img`, thus forcing the latent space to be continuously meaningful. Any two close \n",
        "points in the latent space will decode to highly similar images. Continuity, combined with the low dimensionality of the latent space, \n",
        "forces every direction in the latent space to encode a meaningful axis of variation of the data, making the latent space very structured \n",
        "and thus highly suitable to manipulation via concept vectors.\n",
        "\n",
        "The parameters of a VAE are trained via two loss functions: first, a reconstruction loss that forces the decoded samples to match the \n",
        "initial inputs, and a regularization loss, which helps in learning well-formed latent spaces and reducing overfitting to the training data.\n",
        "\n",
        "Let's quickly go over a Keras implementation of a VAE. Schematically, it looks like this:"
      ]
    },
    {
      "cell_type": "code",
      "metadata": {
        "id": "1Jl_7hTunGt_",
        "colab_type": "code",
        "colab": {}
      },
      "source": [
        "# This is not for running \n",
        "\n",
        "\n",
        "# Encode the input into a mean and variance parameter\n",
        "z_mean, z_log_variance = encoder(input_img)\n",
        "\n",
        "# Draw a latent point using a small random epsilon\n",
        "z = z_mean + exp(z_log_variance) * epsilon\n",
        "\n",
        "# Then decode z back to an image\n",
        "reconstructed_img = decoder(z)\n",
        "\n",
        "# Instantiate a model\n",
        "model = Model(input_img, reconstructed_img)\n",
        "\n",
        "# Then train the model using 2 losses:\n",
        "# a reconstruction loss and a regularization loss"
      ],
      "execution_count": 0,
      "outputs": []
    },
    {
      "cell_type": "markdown",
      "metadata": {
        "id": "M3FmNWNBnGuB",
        "colab_type": "text"
      },
      "source": [
        "Here is the encoder network we will use: a very simple convnet which maps the input image `x` to two vectors, `z_mean` and `z_log_variance`."
      ]
    },
    {
      "cell_type": "code",
      "metadata": {
        "id": "X_bFmm-9nGuC",
        "colab_type": "code",
        "colab": {}
      },
      "source": [
        "import tensorflow.keras as keras\n",
        "from tensorflow.keras import layers\n",
        "from tensorflow.keras import backend as K\n",
        "from tensorflow.keras.models import Model\n",
        "import numpy as np\n",
        "\n",
        "img_shape = (389, )\n",
        "batch_size = 16\n",
        "latent_dim = 1  # Dimensionality of the latent space: a plane\n",
        "\n",
        "input_img = keras.Input(shape=img_shape)\n",
        "\n",
        "x = layers.Dense(32, activation='relu')(input_img)\n",
        "\n",
        "z_mean = layers.Dense(latent_dim)(x)\n",
        "z_log_var = layers.Dense(latent_dim)(x)"
      ],
      "execution_count": 0,
      "outputs": []
    },
    {
      "cell_type": "markdown",
      "metadata": {
        "id": "E06_AIQMnGuE",
        "colab_type": "text"
      },
      "source": [
        "Here is the code for using `z_mean` and `z_log_var`, the parameters of the statistical distribution assumed to have produced `input_img`, to \n",
        "generate a latent space point `z`. Here, we wrap some arbitrary code (built on top of Keras backend primitives) into a `Lambda` layer. In \n",
        "Keras, everything needs to be a layer, so code that isn't part of a built-in layer should be wrapped in a `Lambda` (or else, in a custom \n",
        "layer)."
      ]
    },
    {
      "cell_type": "code",
      "metadata": {
        "id": "0X_DHIGGnGuE",
        "colab_type": "code",
        "colab": {}
      },
      "source": [
        "def sampling(args):\n",
        "    z_mean, z_log_var = args\n",
        "    epsilon = K.random_normal(shape=(K.shape(z_mean)[0], latent_dim),\n",
        "                              mean=0., stddev=1.)\n",
        "    return z_mean + K.exp(z_log_var) * epsilon\n",
        "\n",
        "z = layers.Lambda(sampling)([z_mean, z_log_var])"
      ],
      "execution_count": 0,
      "outputs": []
    },
    {
      "cell_type": "markdown",
      "metadata": {
        "id": "YNUyt_TQnGuH",
        "colab_type": "text"
      },
      "source": [
        "\n",
        "This is the decoder implementation: we reshape the vector `z` to the dimensions of an image, then we use a few convolution layers to obtain a final \n",
        "image output that has the same dimensions as the original `input_img`."
      ]
    },
    {
      "cell_type": "code",
      "metadata": {
        "id": "uT2wlEYXnGuH",
        "colab_type": "code",
        "colab": {}
      },
      "source": [
        "# This is the input where we will feed `z`.\n",
        "decoder_input = layers.Input(K.int_shape(z)[1:])\n",
        "\n",
        "x = layers.Dense(32, activation='relu')(decoder_input)\n",
        "\n",
        "x = layers.Dense(img_shape[0], activation='relu')(x)\n",
        "\n",
        "# This is our decoder model.\n",
        "decoder = Model(decoder_input, x)\n",
        "\n",
        "# We then apply it to `z` to recover the decoded `z`.\n",
        "z_decoded = decoder(z)"
      ],
      "execution_count": 0,
      "outputs": []
    },
    {
      "cell_type": "markdown",
      "metadata": {
        "id": "RuE4KNPJnGuK",
        "colab_type": "text"
      },
      "source": [
        "The dual loss of a VAE doesn't fit the traditional expectation of a sample-wise function of the form `loss(input, target)`. Thus, we set up \n",
        "the loss by writing a custom layer with internally leverages the built-in `add_loss` layer method to create an arbitrary loss."
      ]
    },
    {
      "cell_type": "code",
      "metadata": {
        "id": "xzROeLswnGuK",
        "colab_type": "code",
        "colab": {}
      },
      "source": [
        "class CustomVariationalLayer(keras.layers.Layer):\n",
        "\n",
        "    def vae_loss(self, x, z_decoded):\n",
        "        x = K.flatten(x)\n",
        "        z_decoded = K.flatten(z_decoded)\n",
        "        xent_loss = keras.metrics.binary_crossentropy(x, z_decoded)\n",
        "        kl_loss = -5e-4 * K.mean(\n",
        "            1 + z_log_var - K.square(z_mean) - K.exp(z_log_var), axis=-1)\n",
        "        return K.mean(xent_loss + kl_loss)\n",
        "\n",
        "    def call(self, inputs):\n",
        "        x = inputs[0]\n",
        "        z_decoded = inputs[1]\n",
        "        loss = self.vae_loss(x, z_decoded)\n",
        "        self.add_loss(loss, inputs=inputs)\n",
        "        # We don't use this output.\n",
        "        return x\n",
        "\n",
        "# We call our custom layer on the input and the decoded output,\n",
        "# to obtain the final model output.\n",
        "y = CustomVariationalLayer()([input_img, z_decoded])"
      ],
      "execution_count": 0,
      "outputs": []
    },
    {
      "cell_type": "markdown",
      "metadata": {
        "id": "J82Bj57-nGuN",
        "colab_type": "text"
      },
      "source": [
        "\n",
        "Finally, we instantiate and train the model. Since the loss has been taken care of in our custom layer, we don't specify an external loss \n",
        "at compile time (`loss=None`), which in turns means that we won't pass target data during training (as you can see we only pass `x_train` \n",
        "to the model in `fit`)."
      ]
    },
    {
      "cell_type": "code",
      "metadata": {
        "id": "rOEPJAFeEJsk",
        "colab_type": "code",
        "outputId": "5ccf0da7-6c5f-4136-e3e2-2850f82ba58a",
        "colab": {
          "base_uri": "https://localhost:8080/",
          "height": 253
        }
      },
      "source": [
        "import pandas as pd \n",
        "ts=pd.read_csv(\"https://github.com/yaniv256/VAEs-in-Economics/blob/master/Data/Timeuse/time_shares_only_2013.csv?raw=true\")\n",
        "ts.head()"
      ],
      "execution_count": 81,
      "outputs": [
        {
          "output_type": "execute_result",
          "data": {
            "text/html": [
              "<div>\n",
              "<style scoped>\n",
              "    .dataframe tbody tr th:only-of-type {\n",
              "        vertical-align: middle;\n",
              "    }\n",
              "\n",
              "    .dataframe tbody tr th {\n",
              "        vertical-align: top;\n",
              "    }\n",
              "\n",
              "    .dataframe thead th {\n",
              "        text-align: right;\n",
              "    }\n",
              "</style>\n",
              "<table border=\"1\" class=\"dataframe\">\n",
              "  <thead>\n",
              "    <tr style=\"text-align: right;\">\n",
              "      <th></th>\n",
              "      <th>Sleeping</th>\n",
              "      <th>Television_and_movies__not_religious_</th>\n",
              "      <th>Work__main_job</th>\n",
              "      <th>Eating_and_drinking</th>\n",
              "      <th>Socializing_and_communicating_with_others</th>\n",
              "      <th>Washing__dressing_and_grooming_oneself</th>\n",
              "      <th>Food_and_drink_preparation_</th>\n",
              "      <th>Interior_cleaning</th>\n",
              "      <th>Reading_for_personal_interest</th>\n",
              "      <th>Relaxing__thinking_</th>\n",
              "      <th>Shopping__except_groceries__food_and_gas</th>\n",
              "      <th>Travel_related_to_working</th>\n",
              "      <th>Playing_games</th>\n",
              "      <th>Laundry</th>\n",
              "      <th>Computer_use_for_leisure__exc__Games_</th>\n",
              "      <th>Lawn__garden__and_houseplant_care</th>\n",
              "      <th>Insufficient_detail_in_verbatim</th>\n",
              "      <th>Physical_care_for_hh_children</th>\n",
              "      <th>Attending_religious_services</th>\n",
              "      <th>Playing_with_hh_children__not_sports</th>\n",
              "      <th>Kitchen_and_food_clean_up</th>\n",
              "      <th>Grocery_shopping</th>\n",
              "      <th>Travel_related_to_eating_and_drinking</th>\n",
              "      <th>Research_homework_for_class_for_degree__certification__or_licensure</th>\n",
              "      <th>Travel_related_to_shopping__ex_groceries__food__and_gas</th>\n",
              "      <th>Household___personal_organization_and_planning</th>\n",
              "      <th>Taking_class_for_degree__certification__or_licensure</th>\n",
              "      <th>Travel_related_to_socializing_and_communicating</th>\n",
              "      <th>Health_related_self_care</th>\n",
              "      <th>Attending_or_hosting_parties_receptions_ceremonies</th>\n",
              "      <th>Work__other_job_s_</th>\n",
              "      <th>Gap_can_t_remember</th>\n",
              "      <th>Travel_related_to_caring_for___helping_hh_children</th>\n",
              "      <th>Sleeplessness</th>\n",
              "      <th>Travel_related_to_grocery_shopping</th>\n",
              "      <th>Walking</th>\n",
              "      <th>Care_for_animals_and_pets__not_veterinary_care_</th>\n",
              "      <th>Walking___exercising___playing_with_animals</th>\n",
              "      <th>Participation_in_religious_practices</th>\n",
              "      <th>Interior_arrangement__decoration____repairs</th>\n",
              "      <th>...</th>\n",
              "      <th>Travel_rel__to_socializing__relaxing____leisure__n_e_c__</th>\n",
              "      <th>Waiting_associated_w_banking_financial_services</th>\n",
              "      <th>Waiting_associated_w_admin__activities__education_</th>\n",
              "      <th>Travel_related_to_using_lawn_and_garden_services</th>\n",
              "      <th>Travel_related_to_nonhh_children_s_education</th>\n",
              "      <th>Waiting_associated_with_work_related_activities</th>\n",
              "      <th>Using_interior_cleaning_services_</th>\n",
              "      <th>Waiting_assoc__w_attending_hosting_social_events</th>\n",
              "      <th>Watching_rugby</th>\n",
              "      <th>Watching_skiing__ice_skating__snowboarding</th>\n",
              "      <th>Travel_related_to_personal_care__n_e_c__</th>\n",
              "      <th>Travel_related_to_education__n_e_c__</th>\n",
              "      <th>Travel_related_to_using_household_services__n_e_c__</th>\n",
              "      <th>Travel_related_to_work__n_e_c__</th>\n",
              "      <th>Travel_rel__to_religious_spiritual_activities__n_e_c__</th>\n",
              "      <th>Waiting_associated_w_purchasing_selling_real_estate</th>\n",
              "      <th>Waiting_associated_with_socializing__n_e_c__</th>\n",
              "      <th>Travel_related_to_consumer_purchases__n_e_c__</th>\n",
              "      <th>Security_procedures_related_to_work</th>\n",
              "      <th>Using_pet_services__n_e_c__</th>\n",
              "      <th>Telephone_calls_to_from_paid_child_or_adult_care_providers</th>\n",
              "      <th>Travel_related_to_using_legal_services</th>\n",
              "      <th>Lawn_and_garden__n_e_c___</th>\n",
              "      <th>Waiting_associated_with_research_homework</th>\n",
              "      <th>Waiting_associated_with_pet_services</th>\n",
              "      <th>Waiting_associated_with_other_income_generating_activities</th>\n",
              "      <th>Using_vehicle_maint____repair_svcs__n_e_c__</th>\n",
              "      <th>Housework__n_e_c___</th>\n",
              "      <th>Using_lawn_and_garden_services__n_e_c__</th>\n",
              "      <th>Security_procedures_rel__to_govt_svcs_civic_obligations__n_e_c__</th>\n",
              "      <th>Activities_related_to_nonhh_child_s_educ___n_e_c__</th>\n",
              "      <th>Waiting_associated_with_job_search_or_interview</th>\n",
              "      <th>Work_and_work_related_activities__n_e_c__</th>\n",
              "      <th>Government_services__n_e_c__</th>\n",
              "      <th>Public_health___safety_activities__n_e_c__</th>\n",
              "      <th>Travel_related_to_household_activities__n_e_c__</th>\n",
              "      <th>Travel_rel__to_govt_svcs___civic_obligations__n_e_c__</th>\n",
              "      <th>Food___drink_prep__presentation____clean_up__n_e_c___</th>\n",
              "      <th>Telephone_calls__n_e_c__</th>\n",
              "      <th>Public_health_activities</th>\n",
              "    </tr>\n",
              "  </thead>\n",
              "  <tbody>\n",
              "    <tr>\n",
              "      <th>0</th>\n",
              "      <td>540</td>\n",
              "      <td>330</td>\n",
              "      <td>0</td>\n",
              "      <td>35</td>\n",
              "      <td>0</td>\n",
              "      <td>20</td>\n",
              "      <td>0</td>\n",
              "      <td>0</td>\n",
              "      <td>0</td>\n",
              "      <td>0</td>\n",
              "      <td>0</td>\n",
              "      <td>0</td>\n",
              "      <td>0</td>\n",
              "      <td>0</td>\n",
              "      <td>0</td>\n",
              "      <td>0</td>\n",
              "      <td>0</td>\n",
              "      <td>0</td>\n",
              "      <td>0</td>\n",
              "      <td>0</td>\n",
              "      <td>0</td>\n",
              "      <td>0</td>\n",
              "      <td>0</td>\n",
              "      <td>455</td>\n",
              "      <td>0</td>\n",
              "      <td>0</td>\n",
              "      <td>0</td>\n",
              "      <td>0</td>\n",
              "      <td>0</td>\n",
              "      <td>0</td>\n",
              "      <td>0</td>\n",
              "      <td>0</td>\n",
              "      <td>0</td>\n",
              "      <td>0</td>\n",
              "      <td>0</td>\n",
              "      <td>0</td>\n",
              "      <td>0</td>\n",
              "      <td>0</td>\n",
              "      <td>0</td>\n",
              "      <td>0</td>\n",
              "      <td>...</td>\n",
              "      <td>0</td>\n",
              "      <td>0</td>\n",
              "      <td>0</td>\n",
              "      <td>0</td>\n",
              "      <td>0</td>\n",
              "      <td>0</td>\n",
              "      <td>0</td>\n",
              "      <td>0</td>\n",
              "      <td>0</td>\n",
              "      <td>0</td>\n",
              "      <td>0</td>\n",
              "      <td>0</td>\n",
              "      <td>0</td>\n",
              "      <td>0</td>\n",
              "      <td>0</td>\n",
              "      <td>0</td>\n",
              "      <td>0</td>\n",
              "      <td>0</td>\n",
              "      <td>0</td>\n",
              "      <td>0</td>\n",
              "      <td>0</td>\n",
              "      <td>0</td>\n",
              "      <td>0</td>\n",
              "      <td>0</td>\n",
              "      <td>0</td>\n",
              "      <td>0</td>\n",
              "      <td>0</td>\n",
              "      <td>0</td>\n",
              "      <td>0</td>\n",
              "      <td>0</td>\n",
              "      <td>0</td>\n",
              "      <td>0</td>\n",
              "      <td>0</td>\n",
              "      <td>0</td>\n",
              "      <td>0</td>\n",
              "      <td>0</td>\n",
              "      <td>0</td>\n",
              "      <td>0</td>\n",
              "      <td>0</td>\n",
              "      <td>0</td>\n",
              "    </tr>\n",
              "    <tr>\n",
              "      <th>1</th>\n",
              "      <td>580</td>\n",
              "      <td>95</td>\n",
              "      <td>0</td>\n",
              "      <td>75</td>\n",
              "      <td>0</td>\n",
              "      <td>35</td>\n",
              "      <td>60</td>\n",
              "      <td>25</td>\n",
              "      <td>15</td>\n",
              "      <td>0</td>\n",
              "      <td>0</td>\n",
              "      <td>0</td>\n",
              "      <td>0</td>\n",
              "      <td>0</td>\n",
              "      <td>50</td>\n",
              "      <td>0</td>\n",
              "      <td>0</td>\n",
              "      <td>80</td>\n",
              "      <td>0</td>\n",
              "      <td>309</td>\n",
              "      <td>20</td>\n",
              "      <td>60</td>\n",
              "      <td>0</td>\n",
              "      <td>0</td>\n",
              "      <td>0</td>\n",
              "      <td>5</td>\n",
              "      <td>0</td>\n",
              "      <td>0</td>\n",
              "      <td>0</td>\n",
              "      <td>0</td>\n",
              "      <td>0</td>\n",
              "      <td>0</td>\n",
              "      <td>0</td>\n",
              "      <td>0</td>\n",
              "      <td>10</td>\n",
              "      <td>0</td>\n",
              "      <td>0</td>\n",
              "      <td>0</td>\n",
              "      <td>0</td>\n",
              "      <td>0</td>\n",
              "      <td>...</td>\n",
              "      <td>0</td>\n",
              "      <td>0</td>\n",
              "      <td>0</td>\n",
              "      <td>0</td>\n",
              "      <td>0</td>\n",
              "      <td>0</td>\n",
              "      <td>0</td>\n",
              "      <td>0</td>\n",
              "      <td>0</td>\n",
              "      <td>0</td>\n",
              "      <td>0</td>\n",
              "      <td>0</td>\n",
              "      <td>0</td>\n",
              "      <td>0</td>\n",
              "      <td>0</td>\n",
              "      <td>0</td>\n",
              "      <td>0</td>\n",
              "      <td>0</td>\n",
              "      <td>0</td>\n",
              "      <td>0</td>\n",
              "      <td>0</td>\n",
              "      <td>0</td>\n",
              "      <td>0</td>\n",
              "      <td>0</td>\n",
              "      <td>0</td>\n",
              "      <td>0</td>\n",
              "      <td>0</td>\n",
              "      <td>0</td>\n",
              "      <td>0</td>\n",
              "      <td>0</td>\n",
              "      <td>0</td>\n",
              "      <td>0</td>\n",
              "      <td>0</td>\n",
              "      <td>0</td>\n",
              "      <td>0</td>\n",
              "      <td>0</td>\n",
              "      <td>0</td>\n",
              "      <td>0</td>\n",
              "      <td>0</td>\n",
              "      <td>0</td>\n",
              "    </tr>\n",
              "    <tr>\n",
              "      <th>2</th>\n",
              "      <td>450</td>\n",
              "      <td>60</td>\n",
              "      <td>0</td>\n",
              "      <td>170</td>\n",
              "      <td>0</td>\n",
              "      <td>90</td>\n",
              "      <td>105</td>\n",
              "      <td>0</td>\n",
              "      <td>20</td>\n",
              "      <td>0</td>\n",
              "      <td>0</td>\n",
              "      <td>0</td>\n",
              "      <td>0</td>\n",
              "      <td>0</td>\n",
              "      <td>0</td>\n",
              "      <td>0</td>\n",
              "      <td>0</td>\n",
              "      <td>0</td>\n",
              "      <td>0</td>\n",
              "      <td>0</td>\n",
              "      <td>15</td>\n",
              "      <td>15</td>\n",
              "      <td>0</td>\n",
              "      <td>0</td>\n",
              "      <td>0</td>\n",
              "      <td>0</td>\n",
              "      <td>0</td>\n",
              "      <td>0</td>\n",
              "      <td>0</td>\n",
              "      <td>0</td>\n",
              "      <td>0</td>\n",
              "      <td>0</td>\n",
              "      <td>0</td>\n",
              "      <td>0</td>\n",
              "      <td>40</td>\n",
              "      <td>0</td>\n",
              "      <td>145</td>\n",
              "      <td>0</td>\n",
              "      <td>0</td>\n",
              "      <td>0</td>\n",
              "      <td>...</td>\n",
              "      <td>0</td>\n",
              "      <td>0</td>\n",
              "      <td>0</td>\n",
              "      <td>0</td>\n",
              "      <td>0</td>\n",
              "      <td>0</td>\n",
              "      <td>0</td>\n",
              "      <td>0</td>\n",
              "      <td>0</td>\n",
              "      <td>0</td>\n",
              "      <td>0</td>\n",
              "      <td>0</td>\n",
              "      <td>0</td>\n",
              "      <td>0</td>\n",
              "      <td>0</td>\n",
              "      <td>0</td>\n",
              "      <td>0</td>\n",
              "      <td>0</td>\n",
              "      <td>0</td>\n",
              "      <td>0</td>\n",
              "      <td>0</td>\n",
              "      <td>0</td>\n",
              "      <td>0</td>\n",
              "      <td>0</td>\n",
              "      <td>0</td>\n",
              "      <td>0</td>\n",
              "      <td>0</td>\n",
              "      <td>0</td>\n",
              "      <td>0</td>\n",
              "      <td>0</td>\n",
              "      <td>0</td>\n",
              "      <td>0</td>\n",
              "      <td>0</td>\n",
              "      <td>0</td>\n",
              "      <td>0</td>\n",
              "      <td>0</td>\n",
              "      <td>0</td>\n",
              "      <td>0</td>\n",
              "      <td>0</td>\n",
              "      <td>0</td>\n",
              "    </tr>\n",
              "    <tr>\n",
              "      <th>3</th>\n",
              "      <td>450</td>\n",
              "      <td>65</td>\n",
              "      <td>680</td>\n",
              "      <td>70</td>\n",
              "      <td>0</td>\n",
              "      <td>30</td>\n",
              "      <td>0</td>\n",
              "      <td>0</td>\n",
              "      <td>0</td>\n",
              "      <td>0</td>\n",
              "      <td>0</td>\n",
              "      <td>20</td>\n",
              "      <td>0</td>\n",
              "      <td>0</td>\n",
              "      <td>0</td>\n",
              "      <td>0</td>\n",
              "      <td>0</td>\n",
              "      <td>0</td>\n",
              "      <td>0</td>\n",
              "      <td>0</td>\n",
              "      <td>0</td>\n",
              "      <td>0</td>\n",
              "      <td>0</td>\n",
              "      <td>0</td>\n",
              "      <td>0</td>\n",
              "      <td>0</td>\n",
              "      <td>0</td>\n",
              "      <td>0</td>\n",
              "      <td>0</td>\n",
              "      <td>60</td>\n",
              "      <td>0</td>\n",
              "      <td>0</td>\n",
              "      <td>0</td>\n",
              "      <td>0</td>\n",
              "      <td>0</td>\n",
              "      <td>0</td>\n",
              "      <td>0</td>\n",
              "      <td>0</td>\n",
              "      <td>0</td>\n",
              "      <td>0</td>\n",
              "      <td>...</td>\n",
              "      <td>0</td>\n",
              "      <td>0</td>\n",
              "      <td>0</td>\n",
              "      <td>0</td>\n",
              "      <td>0</td>\n",
              "      <td>0</td>\n",
              "      <td>0</td>\n",
              "      <td>0</td>\n",
              "      <td>0</td>\n",
              "      <td>0</td>\n",
              "      <td>0</td>\n",
              "      <td>0</td>\n",
              "      <td>0</td>\n",
              "      <td>0</td>\n",
              "      <td>0</td>\n",
              "      <td>0</td>\n",
              "      <td>0</td>\n",
              "      <td>0</td>\n",
              "      <td>0</td>\n",
              "      <td>0</td>\n",
              "      <td>0</td>\n",
              "      <td>0</td>\n",
              "      <td>0</td>\n",
              "      <td>0</td>\n",
              "      <td>0</td>\n",
              "      <td>0</td>\n",
              "      <td>0</td>\n",
              "      <td>0</td>\n",
              "      <td>0</td>\n",
              "      <td>0</td>\n",
              "      <td>0</td>\n",
              "      <td>0</td>\n",
              "      <td>0</td>\n",
              "      <td>0</td>\n",
              "      <td>0</td>\n",
              "      <td>0</td>\n",
              "      <td>0</td>\n",
              "      <td>0</td>\n",
              "      <td>0</td>\n",
              "      <td>0</td>\n",
              "    </tr>\n",
              "    <tr>\n",
              "      <th>4</th>\n",
              "      <td>570</td>\n",
              "      <td>90</td>\n",
              "      <td>0</td>\n",
              "      <td>120</td>\n",
              "      <td>0</td>\n",
              "      <td>0</td>\n",
              "      <td>60</td>\n",
              "      <td>0</td>\n",
              "      <td>0</td>\n",
              "      <td>0</td>\n",
              "      <td>0</td>\n",
              "      <td>0</td>\n",
              "      <td>0</td>\n",
              "      <td>30</td>\n",
              "      <td>0</td>\n",
              "      <td>0</td>\n",
              "      <td>0</td>\n",
              "      <td>0</td>\n",
              "      <td>0</td>\n",
              "      <td>0</td>\n",
              "      <td>0</td>\n",
              "      <td>0</td>\n",
              "      <td>0</td>\n",
              "      <td>510</td>\n",
              "      <td>0</td>\n",
              "      <td>0</td>\n",
              "      <td>0</td>\n",
              "      <td>0</td>\n",
              "      <td>0</td>\n",
              "      <td>0</td>\n",
              "      <td>0</td>\n",
              "      <td>0</td>\n",
              "      <td>0</td>\n",
              "      <td>0</td>\n",
              "      <td>0</td>\n",
              "      <td>0</td>\n",
              "      <td>0</td>\n",
              "      <td>0</td>\n",
              "      <td>0</td>\n",
              "      <td>0</td>\n",
              "      <td>...</td>\n",
              "      <td>0</td>\n",
              "      <td>0</td>\n",
              "      <td>0</td>\n",
              "      <td>0</td>\n",
              "      <td>0</td>\n",
              "      <td>0</td>\n",
              "      <td>0</td>\n",
              "      <td>0</td>\n",
              "      <td>0</td>\n",
              "      <td>0</td>\n",
              "      <td>0</td>\n",
              "      <td>0</td>\n",
              "      <td>0</td>\n",
              "      <td>0</td>\n",
              "      <td>0</td>\n",
              "      <td>0</td>\n",
              "      <td>0</td>\n",
              "      <td>0</td>\n",
              "      <td>0</td>\n",
              "      <td>0</td>\n",
              "      <td>0</td>\n",
              "      <td>0</td>\n",
              "      <td>0</td>\n",
              "      <td>0</td>\n",
              "      <td>0</td>\n",
              "      <td>0</td>\n",
              "      <td>0</td>\n",
              "      <td>0</td>\n",
              "      <td>0</td>\n",
              "      <td>0</td>\n",
              "      <td>0</td>\n",
              "      <td>0</td>\n",
              "      <td>0</td>\n",
              "      <td>0</td>\n",
              "      <td>0</td>\n",
              "      <td>0</td>\n",
              "      <td>0</td>\n",
              "      <td>0</td>\n",
              "      <td>0</td>\n",
              "      <td>0</td>\n",
              "    </tr>\n",
              "  </tbody>\n",
              "</table>\n",
              "<p>5 rows × 389 columns</p>\n",
              "</div>"
            ],
            "text/plain": [
              "   Sleeping  ...  Public_health_activities\n",
              "0       540  ...                         0\n",
              "1       580  ...                         0\n",
              "2       450  ...                         0\n",
              "3       450  ...                         0\n",
              "4       570  ...                         0\n",
              "\n",
              "[5 rows x 389 columns]"
            ]
          },
          "metadata": {
            "tags": []
          },
          "execution_count": 81
        }
      ]
    },
    {
      "cell_type": "code",
      "metadata": {
        "id": "70lRTwHWE02A",
        "colab_type": "code",
        "colab": {}
      },
      "source": [
        "from sklearn.model_selection import train_test_split \n",
        "x_train, x_test = train_test_split(ts, test_size=0.33, random_state=42)"
      ],
      "execution_count": 0,
      "outputs": []
    },
    {
      "cell_type": "code",
      "metadata": {
        "id": "QhVY4WdZnGuN",
        "colab_type": "code",
        "outputId": "a27c7685-9325-4a6b-e77e-a16d2e857f2e",
        "colab": {
          "base_uri": "https://localhost:8080/",
          "height": 836
        }
      },
      "source": [
        "from keras.datasets import mnist \n",
        "import pandas as pd \n",
        "vae = Model(input_img, y)\n",
        "\n",
        "vae.compile(optimizer='rmsprop', loss=None)\n",
        "vae.summary()\n",
        "\n",
        "\n",
        "minutes_in_day=24*60.\n",
        "\n",
        "x_train = x_train.astype('float32') / minutes_in_day\n",
        "x_test = x_test.astype('float32') / minutes_in_day\n",
        "\n",
        "\n",
        "vae.fit(x=x_train, y=None,\n",
        "        shuffle=True,\n",
        "        epochs=10,\n",
        "        batch_size=batch_size,\n",
        "        validation_data=(x_test, None))"
      ],
      "execution_count": 83,
      "outputs": [
        {
          "output_type": "stream",
          "text": [
            "WARNING:tensorflow:Output custom_variational_layer_3 missing from loss dictionary. We assume this was done on purpose. The fit and evaluate APIs will not be expecting any data to be passed to custom_variational_layer_3.\n",
            "Model: \"model_13\"\n",
            "__________________________________________________________________________________________________\n",
            "Layer (type)                    Output Shape         Param #     Connected to                     \n",
            "==================================================================================================\n",
            "input_8 (InputLayer)            [(None, 389)]        0                                            \n",
            "__________________________________________________________________________________________________\n",
            "dense_16 (Dense)                (None, 32)           12480       input_8[0][0]                    \n",
            "__________________________________________________________________________________________________\n",
            "dense_17 (Dense)                (None, 1)            33          dense_16[0][0]                   \n",
            "__________________________________________________________________________________________________\n",
            "dense_18 (Dense)                (None, 1)            33          dense_16[0][0]                   \n",
            "__________________________________________________________________________________________________\n",
            "lambda_2 (Lambda)               (None, 1)            0           dense_17[0][0]                   \n",
            "                                                                 dense_18[0][0]                   \n",
            "__________________________________________________________________________________________________\n",
            "model_12 (Model)                (None, 389)          12901       lambda_2[0][0]                   \n",
            "__________________________________________________________________________________________________\n",
            "custom_variational_layer_3 (Cus (None, 389)          0           input_8[0][0]                    \n",
            "                                                                 model_12[1][0]                   \n",
            "==================================================================================================\n",
            "Total params: 25,447\n",
            "Trainable params: 25,447\n",
            "Non-trainable params: 0\n",
            "__________________________________________________________________________________________________\n",
            "Train on 7627 samples, validate on 3758 samples\n",
            "Epoch 1/10\n",
            "7627/7627 [==============================] - 2s 311us/sample - loss: 0.0156 - val_loss: 0.0151\n",
            "Epoch 2/10\n",
            "7627/7627 [==============================] - 2s 252us/sample - loss: 0.0147 - val_loss: 0.0146\n",
            "Epoch 3/10\n",
            "7627/7627 [==============================] - 2s 251us/sample - loss: 0.0145 - val_loss: 0.0146\n",
            "Epoch 4/10\n",
            "7627/7627 [==============================] - 2s 256us/sample - loss: 0.0146 - val_loss: 0.0145\n",
            "Epoch 5/10\n",
            "7627/7627 [==============================] - 2s 258us/sample - loss: 0.0145 - val_loss: 0.0145\n",
            "Epoch 6/10\n",
            "7627/7627 [==============================] - 2s 246us/sample - loss: 0.0145 - val_loss: 0.0146\n",
            "Epoch 7/10\n",
            "7627/7627 [==============================] - 2s 251us/sample - loss: 0.0145 - val_loss: 0.0146\n",
            "Epoch 8/10\n",
            "7627/7627 [==============================] - 2s 244us/sample - loss: 0.0145 - val_loss: 0.0147\n",
            "Epoch 9/10\n",
            "7627/7627 [==============================] - 2s 245us/sample - loss: 0.0146 - val_loss: 0.0146\n",
            "Epoch 10/10\n",
            "7627/7627 [==============================] - 2s 244us/sample - loss: 0.0146 - val_loss: 0.0146\n"
          ],
          "name": "stdout"
        },
        {
          "output_type": "execute_result",
          "data": {
            "text/plain": [
              "<tensorflow.python.keras.callbacks.History at 0x7f912a90bef0>"
            ]
          },
          "metadata": {
            "tags": []
          },
          "execution_count": 83
        }
      ]
    },
    {
      "cell_type": "markdown",
      "metadata": {
        "id": "vRAPwpP7nGuQ",
        "colab_type": "text"
      },
      "source": [
        "\n",
        "Once such a model is trained -- e.g. on MNIST, in our case -- we can use the `decoder` network to turn arbitrary latent space vectors into \n",
        "images:"
      ]
    },
    {
      "cell_type": "code",
      "metadata": {
        "id": "PT3jRGj3nGuQ",
        "colab_type": "code",
        "outputId": "8f094dba-c719-4f88-9695-c8c26e98d013",
        "colab": {
          "base_uri": "https://localhost:8080/",
          "height": 330
        }
      },
      "source": [
        "import matplotlib.pyplot as plt\n",
        "from scipy.stats import norm\n",
        "\n",
        "# Display a 2D manifold of the digits\n",
        "n_type = 200  # type span\n",
        "each_width = 20\n",
        "n_activity =  5\n",
        "figure = np.zeros((each_width*n_activity,n_type))\n",
        "# Linearly spaced coordinates on the unit square were transformed\n",
        "# through the inverse CDF (ppf) of the Gaussian\n",
        "# to produce values of the latent variables z,\n",
        "# since the prior of the latent space is Gaussian\n",
        "grid_x = norm.ppf(np.linspace(0.001, 0.999, n_type))\n",
        "\n",
        "for i, xi in enumerate(grid_x):\n",
        "    z_sample = np.array([[xi]])\n",
        "    x_decoded = decoder.predict(z_sample)\n",
        "    figure[0:n_activity*each_width,i : (i + 1)] = np.repeat(x_decoded[0,0:n_activity],each_width).reshape(n_activity*each_width,1)\n",
        "\n",
        "plt.figure(figsize=(10, 10))\n",
        "plt.imshow(figure, cmap='Greys_r')\n",
        "plt.show()"
      ],
      "execution_count": 95,
      "outputs": [
        {
          "output_type": "display_data",
          "data": {
            "image/png": "[encoded data removed]",
            "text/plain": [
              "<Figure size 720x720 with 1 Axes>"
            ]
          },
          "metadata": {
            "tags": []
          }
        }
      ]
    },
    {
      "cell_type": "code",
      "metadata": {
        "id": "UnH2DnjGdt4r",
        "colab_type": "code",
        "colab": {
          "base_uri": "https://localhost:8080/",
          "height": 136
        },
        "outputId": "32185050-1404-4398-871e-5b5dfc355639"
      },
      "source": [
        "figure"
      ],
      "execution_count": 92,
      "outputs": [
        {
          "output_type": "execute_result",
          "data": {
            "text/plain": [
              "array([[0., 0., 0., ..., 0., 0., 0.],\n",
              "       [0., 0., 0., ..., 0., 0., 0.],\n",
              "       [0., 0., 0., ..., 0., 0., 0.],\n",
              "       ...,\n",
              "       [0., 0., 0., ..., 0., 0., 0.],\n",
              "       [0., 0., 0., ..., 0., 0., 0.],\n",
              "       [0., 0., 0., ..., 0., 0., 0.]])"
            ]
          },
          "metadata": {
            "tags": []
          },
          "execution_count": 92
        }
      ]
    },
    {
      "cell_type": "markdown",
      "metadata": {
        "id": "MCzZ2urinGuT",
        "colab_type": "text"
      },
      "source": [
        "The grid of sampled digits shows a completely continuous distribution of the different digit classes, with one digit morphing into another \n",
        "as you follow a path through latent space. Specific directions in this space have a meaning, e.g. there is a direction for \"four-ness\", \n",
        "\"one-ness\", etc."
      ]
    }
  ]
}