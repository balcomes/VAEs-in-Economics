{
  "nbformat": 4,
  "nbformat_minor": 0,
  "metadata": {
    "colab": {
      "name": "Demographic_Data_ATUS_2013.ipynb",
      "provenance": [],
      "collapsed_sections": [],
      "include_colab_link": true
    },
    "kernelspec": {
      "name": "python3",
      "display_name": "Python 3"
    },
    "accelerator": "GPU"
  },
  "cells": [
    {
      "cell_type": "markdown",
      "metadata": {
        "id": "view-in-github",
        "colab_type": "text"
      },
      "source": [
        "<a href=\"https://colab.research.google.com/github/yaniv256/VAEs-in-Economics/blob/master/Notebooks/Demographic_Data_ATUS_2013.ipynb\" target=\"_parent\"><img src=\"https://colab.research.google.com/assets/colab-badge.svg\" alt=\"Open In Colab\"/></a>"
      ]
    },
    {
      "cell_type": "code",
      "metadata": {
        "id": "xV7BCXOzIHxe",
        "colab_type": "code",
        "colab": {}
      },
      "source": [
        "import pandas as pd \n",
        "import numpy as np \n",
        "\n",
        "# data\n",
        "df = pd.read_csv('https://raw.githubusercontent.com/yaniv256/VAEs-in-Economics/master/Data/Timeuse/atussum_2013/atussum_2013.dat')\n"
      ],
      "execution_count": 0,
      "outputs": []
    },
    {
      "cell_type": "code",
      "metadata": {
        "id": "0yQQSKnYIdJo",
        "colab_type": "code",
        "outputId": "6121495f-107c-41cb-963a-2de82a299553",
        "colab": {
          "base_uri": "https://localhost:8080/",
          "height": 116
        }
      },
      "source": [
        "from keras.utils import to_categorical\n",
        "\n",
        "#GTMETSTA (Metropolitan Status)\n",
        "catGTMETSTA = to_categorical(df['GTMETSTA'])\n",
        "\n",
        "metropolitan = catGTMETSTA[:,1]\n",
        "\n",
        "print(np.mean(metropolitan))"
      ],
      "execution_count": 2,
      "outputs": [
        {
          "output_type": "stream",
          "text": [
            "Using TensorFlow backend.\n"
          ],
          "name": "stderr"
        },
        {
          "output_type": "display_data",
          "data": {
            "text/html": [
              "<p style=\"color: red;\">\n",
              "The default version of TensorFlow in Colab will soon switch to TensorFlow 2.x.<br>\n",
              "We recommend you <a href=\"https://www.tensorflow.org/guide/migrate\" target=\"_blank\">upgrade</a> now \n",
              "or ensure your notebook will continue to use TensorFlow 1.x via the <code>%tensorflow_version 1.x</code> magic:\n",
              "<a href=\"https://colab.research.google.com/notebooks/tensorflow_version.ipynb\" target=\"_blank\">more info</a>.</p>\n"
            ],
            "text/plain": [
              "<IPython.core.display.HTML object>"
            ]
          },
          "metadata": {
            "tags": []
          }
        },
        {
          "output_type": "stream",
          "text": [
            "0.82793146\n"
          ],
          "name": "stdout"
        }
      ]
    },
    {
      "cell_type": "code",
      "metadata": {
        "id": "iGkbDWGp37_5",
        "colab_type": "code",
        "colab": {
          "base_uri": "https://localhost:8080/",
          "height": 312
        },
        "outputId": "2363a33c-fe0b-4104-880d-c5b05f00d9a9"
      },
      "source": [
        "\n",
        "#PEEDUCA\n",
        "peeduca = df['PEEDUCA']\n",
        "\n",
        "peeducaMap = {\n",
        "  31: 'Less than 1st grade',\n",
        "  32: '1st, 2nd, 3rd, or 4th grade',\n",
        "  33: '5th or 6th grade',\n",
        "  34: '7th or 8th grade',\n",
        "  35: '9th grade',\n",
        "  36: '10th grade',\n",
        "  37: '11th grade',\n",
        "  38: '12th grade - no diploma',\n",
        "  39: 'High school graduate - diploma or equivalent (GED)',\n",
        "  40: 'Some college but no degree',\n",
        "  41: 'Associate degree - occupational/vocational',\n",
        "  42: 'Associate degree - academic program',\n",
        "  43: 'Bachelors degree (BA, AB, BS, etc.)',\n",
        "  44: 'Masters degree (MA, MS, MEng, MEd, MSW, etc.)',\n",
        "  45: 'Professional school degree (MD, DDS, DVM, etc.)',\n",
        "  46: 'Doctoral degree (PhD, EdD, etc.)'\n",
        "}\n",
        "\n",
        "mappedPEEDUCA = peeduca.map(peeducaMap)\n",
        "education = pd.get_dummies(mappedPEEDUCA)\n",
        "print(np.mean(education))"
      ],
      "execution_count": 3,
      "outputs": [
        {
          "output_type": "stream",
          "text": [
            "10th grade                                            0.027668\n",
            "11th grade                                            0.032675\n",
            "12th grade - no diploma                               0.014581\n",
            "1st, 2nd, 3rd, or 4th grade                           0.005446\n",
            "5th or 6th grade                                      0.012033\n",
            "7th or 8th grade                                      0.022310\n",
            "9th grade                                             0.026263\n",
            "Associate degree - academic program                   0.056302\n",
            "Associate degree - occupational/vocational            0.041282\n",
            "Bachelors degree (BA, AB, BS, etc.)                   0.207378\n",
            "Doctoral degree (PhD, EdD, etc.)                      0.019236\n",
            "High school graduate - diploma or equivalent (GED)    0.257268\n",
            "Less than 1st grade                                   0.001669\n",
            "Masters degree (MA, MS, MEng, MEd, MSW, etc.)         0.094335\n",
            "Professional school degree (MD, DDS, DVM, etc.)       0.014317\n",
            "Some college but no degree                            0.167238\n",
            "dtype: float64\n"
          ],
          "name": "stdout"
        }
      ]
    },
    {
      "cell_type": "code",
      "metadata": {
        "id": "DsMf2feb6SZX",
        "colab_type": "code",
        "outputId": "db323319-b2b6-4540-b14a-21d531791360",
        "colab": {
          "base_uri": "https://localhost:8080/",
          "height": 35
        }
      },
      "source": [
        "# PEHSPNON\n",
        "\n",
        "hispanic = df['PEHSPNON'] == 1\n",
        "hispanic = hispanic.astype(\"float32\")\n",
        "hispanic.name = \"Hispanic\"\n",
        "print(np.mean(hispanic))"
      ],
      "execution_count": 4,
      "outputs": [
        {
          "output_type": "stream",
          "text": [
            "0.14378568530082703\n"
          ],
          "name": "stdout"
        }
      ]
    },
    {
      "cell_type": "code",
      "metadata": {
        "id": "Mtj_JRAp6_XE",
        "colab_type": "code",
        "outputId": "5d7cd138-8f0d-4eba-f11e-93b9d04167c4",
        "colab": {
          "base_uri": "https://localhost:8080/",
          "height": 364
        }
      },
      "source": [
        "# PTDTRACE\n",
        "\n",
        "raceDf = df['PTDTRACE']\n",
        "raceMap = {\n",
        "    1: 'White only',\n",
        "    2: 'Black only',\n",
        "    3: 'American Indian, Alaskan Native only',\n",
        "    4: 'Asian only',\n",
        "    5: 'Hawaiian/Pacific Islander only',\n",
        "    6: 'White-Black',\n",
        "    7: 'White-American Indian',\n",
        "    8: 'White-Asian',\n",
        "    9: 'White-Hawaiian',\n",
        "    10: 'Black-American Indian',\n",
        "    11: 'Black-Asian',\n",
        "    12: 'Black-Hawaiian',\n",
        "    13: 'American Indian-Asian',\n",
        "    14: 'Multi-Race',\n",
        "    15: 'Multi-Race',\n",
        "    16: 'Multi-Race',\n",
        "    17: 'Multi-Race',\n",
        "    18: 'Multi-Race',\n",
        "    19: 'Multi-Race',\n",
        "    20: 'Multi-Race',\n",
        "    21: 'Multi-Race',\n",
        "    22: 'Multi-Race',\n",
        "    23: 'Multi-Race',\n",
        "    24: 'Multi-Race',\n",
        "    25: 'Multi-Race',\n",
        "    26: 'Multi-Race',\n",
        "}\n",
        "\n",
        "mappedRace = raceDf.map(raceMap)\n",
        "race = pd.get_dummies(mappedRace)\n",
        "print(np.mean(race))\n",
        "print(race.columns)"
      ],
      "execution_count": 5,
      "outputs": [
        {
          "output_type": "stream",
          "text": [
            "American Indian, Alaskan Native only    0.008783\n",
            "Asian only                              0.037330\n",
            "Black only                              0.150637\n",
            "Black-American Indian                   0.000966\n",
            "Black-Asian                             0.000351\n",
            "Black-Hawaiian                          0.000088\n",
            "Hawaiian/Pacific Islander only          0.001845\n",
            "Multi-Race                              0.000878\n",
            "White only                              0.788494\n",
            "White-American Indian                   0.006500\n",
            "White-Asian                             0.001318\n",
            "White-Black                             0.002459\n",
            "White-Hawaiian                          0.000351\n",
            "dtype: float64\n",
            "Index(['American Indian, Alaskan Native only', 'Asian only', 'Black only',\n",
            "       'Black-American Indian', 'Black-Asian', 'Black-Hawaiian',\n",
            "       'Hawaiian/Pacific Islander only', 'Multi-Race', 'White only',\n",
            "       'White-American Indian', 'White-Asian', 'White-Black',\n",
            "       'White-Hawaiian'],\n",
            "      dtype='object')\n"
          ],
          "name": "stdout"
        }
      ]
    },
    {
      "cell_type": "code",
      "metadata": {
        "id": "y39tsWWQ8PSg",
        "colab_type": "code",
        "outputId": "28aaddae-5dd8-4c1b-9518-9dd6cb1785f7",
        "colab": {
          "base_uri": "https://localhost:8080/",
          "height": 756
        }
      },
      "source": [
        "# Age\n",
        "from sklearn.preprocessing import QuantileTransformer\n",
        "import matplotlib.pyplot as plt\n",
        "\n",
        "\n",
        "ageDf = df['TEAGE']\n",
        "ageDf.plot.hist(bins=12, alpha=0.5)\n",
        "ageDf = ageDf.values.reshape(-1, 1)\n",
        "qt_trans = QuantileTransformer(n_quantiles=1000, random_state=0)\n",
        "age = pd.DataFrame(qt_trans.fit_transform(ageDf))\n",
        "age.columns = ['Age']\n",
        "age.plot.hist(bins=12, alpha=0.5)\n",
        "\n",
        "print(age)\n"
      ],
      "execution_count": 6,
      "outputs": [
        {
          "output_type": "stream",
          "text": [
            "            Age\n",
            "0      0.073574\n",
            "1      0.341341\n",
            "2      0.487988\n",
            "3      0.540541\n",
            "4      0.454955\n",
            "...         ...\n",
            "11380  1.000000\n",
            "11381  0.719219\n",
            "11382  0.417417\n",
            "11383  0.505506\n",
            "11384  0.360360\n",
            "\n",
            "[11385 rows x 1 columns]\n"
          ],
          "name": "stdout"
        },
        {
          "output_type": "display_data",
          "data": {
            "image/png": "[encoded data removed]",
            "text/plain": [
              "<Figure size 432x288 with 1 Axes>"
            ]
          },
          "metadata": {
            "tags": []
          }
        },
        {
          "output_type": "display_data",
          "data": {
            "image/png": "[encoded data removed]",
            "text/plain": [
              "<Figure size 432x288 with 1 Axes>"
            ]
          },
          "metadata": {
            "tags": []
          }
        }
      ]
    },
    {
      "cell_type": "code",
      "metadata": {
        "id": "OKa9HT4BC6S-",
        "colab_type": "code",
        "outputId": "ea523965-4949-4c28-8d42-0b61d6dbfed9",
        "colab": {
          "base_uri": "https://localhost:8080/",
          "height": 531
        }
      },
      "source": [
        "# Hours Worked\n",
        "\n",
        "hoursWorkedDf = df['TEHRUSLT']\n",
        "hoursWorkedDf.plot.hist(bins=12, alpha=0.5)\n",
        "hoursWorkedDf = ageDf.reshape(-1, 1)\n",
        "qt_trans = QuantileTransformer(n_quantiles=1000, random_state=0)\n",
        "hoursWorked = pd.DataFrame(qt_trans.fit_transform(hoursWorkedDf))\n",
        "hoursWorked.columns = ['total hours usually worked per week']\n",
        "hoursWorked.plot.hist(bins=12, alpha=0.5)"
      ],
      "execution_count": 7,
      "outputs": [
        {
          "output_type": "execute_result",
          "data": {
            "text/plain": [
              "<matplotlib.axes._subplots.AxesSubplot at 0x7fdc2e5b2e10>"
            ]
          },
          "metadata": {
            "tags": []
          },
          "execution_count": 7
        },
        {
          "output_type": "display_data",
          "data": {
            "image/png": "[encoded data removed]",
            "text/plain": [
              "<Figure size 432x288 with 1 Axes>"
            ]
          },
          "metadata": {
            "tags": []
          }
        },
        {
          "output_type": "display_data",
          "data": {
            "image/png": "[encoded data removed]",
            "text/plain": [
              "<Figure size 432x288 with 1 Axes>"
            ]
          },
          "metadata": {
            "tags": []
          }
        }
      ]
    },
    {
      "cell_type": "code",
      "metadata": {
        "id": "bNPIU777Dgfg",
        "colab_type": "code",
        "outputId": "88b6f788-84b7-45e6-defb-33bdc25411b5",
        "colab": {
          "base_uri": "https://localhost:8080/",
          "height": 121
        }
      },
      "source": [
        "# Employement Status\n",
        "\n",
        "employementStatusDf = df['TELFS']\n",
        "employmentStatusMap = {\n",
        "  1: 'Employed - at work',\n",
        "  2: 'Employed - absent',\n",
        "  3: 'Unemployed - on layoff',\n",
        "  4: 'Unemployed - looking',\n",
        "  5: 'Not in labor force',\n",
        "}\n",
        "mappedES = employementStatusDf.map(employmentStatusMap)\n",
        "employementStatus = pd.get_dummies(mappedES)\n",
        "print(np.mean(employementStatus))"
      ],
      "execution_count": 8,
      "outputs": [
        {
          "output_type": "stream",
          "text": [
            "Employed - absent         0.025911\n",
            "Employed - at work        0.573474\n",
            "Not in labor force        0.348265\n",
            "Unemployed - looking      0.048134\n",
            "Unemployed - on layoff    0.004216\n",
            "dtype: float64\n"
          ],
          "name": "stdout"
        }
      ]
    },
    {
      "cell_type": "code",
      "metadata": {
        "id": "VI0GMKPOEL5f",
        "colab_type": "code",
        "outputId": "cab5da47-9fda-482c-8fbe-c9b78ae7271a",
        "colab": {
          "base_uri": "https://localhost:8080/",
          "height": 35
        }
      },
      "source": [
        "# Work more than one job\n",
        "mtoJob = df['TEMJOT'] == 1\n",
        "mtoJob = mtoJob.astype(\"float32\")\n",
        "mtoJob.name = \"in the last seven days did you have more than one job? - yes\"\n",
        "print(np.mean(mtoJob))\n"
      ],
      "execution_count": 9,
      "outputs": [
        {
          "output_type": "stream",
          "text": [
            "0.05243741720914841\n"
          ],
          "name": "stdout"
        }
      ]
    },
    {
      "cell_type": "code",
      "metadata": {
        "id": "Zvnx9dGAEtj9",
        "colab_type": "code",
        "outputId": "d22926d4-8dd1-4aff-e095-0375ece4875f",
        "colab": {
          "base_uri": "https://localhost:8080/",
          "height": 35
        }
      },
      "source": [
        "# Enrolled in high school, college, or university\n",
        "enrolledInSchool = df['TESCHENR'] == 1\n",
        "enrolledInSchool = enrolledInSchool.astype(\"float32\")\n",
        "enrolledInSchool.name = \"Are you enrolled in high school, college, or university? - Yes\"\n",
        "print(np.mean(enrolledInSchool))"
      ],
      "execution_count": 10,
      "outputs": [
        {
          "output_type": "stream",
          "text": [
            "0.08739569783210754\n"
          ],
          "name": "stdout"
        }
      ]
    },
    {
      "cell_type": "code",
      "metadata": {
        "id": "lUWYTYBFFQ0s",
        "colab_type": "code",
        "outputId": "a2646280-6afc-416e-9f86-256ed6ae29d2",
        "colab": {
          "base_uri": "https://localhost:8080/",
          "height": 69
        }
      },
      "source": [
        "\n",
        "whatSchoolDf = df['TESCHLVL']\n",
        "whatSchoolMap = {\n",
        "  1: 'High school',\n",
        "  2: 'College or university',\n",
        "}\n",
        "mappedWhatSchool = whatSchoolDf.map(whatSchoolMap)\n",
        "whatSchool = pd.get_dummies(mappedWhatSchool)\n",
        "print(np.mean(whatSchool))\n"
      ],
      "execution_count": 11,
      "outputs": [
        {
          "output_type": "stream",
          "text": [
            "College or university    0.050944\n",
            "High school              0.036451\n",
            "dtype: float64\n"
          ],
          "name": "stdout"
        }
      ]
    },
    {
      "cell_type": "code",
      "metadata": {
        "id": "qDS_NtZ1Fvgq",
        "colab_type": "code",
        "outputId": "312f05f8-d1a7-4893-fa7c-7c73c73dd330",
        "colab": {
          "base_uri": "https://localhost:8080/",
          "height": 35
        }
      },
      "source": [
        "# Sex\n",
        "sexDf = df['TESEX'] == 2\n",
        "sex = sexDf.astype(\"float32\")\n",
        "sex.name = \"Sex, Female\"\n",
        "print(np.mean(sex))\n",
        "\n",
        "\n",
        "\n"
      ],
      "execution_count": 12,
      "outputs": [
        {
          "output_type": "stream",
          "text": [
            "0.5536231994628906\n"
          ],
          "name": "stdout"
        }
      ]
    },
    {
      "cell_type": "code",
      "metadata": {
        "id": "QWWRaRizF7oS",
        "colab_type": "code",
        "outputId": "e3f52302-24bb-4b3b-8f65-8023855077bd",
        "colab": {
          "base_uri": "https://localhost:8080/",
          "height": 35
        }
      },
      "source": [
        "# Emplyment of spouse\n",
        "employmentOfSpouseDF = df['TESPEMPNOT'] == 1\n",
        "employementOfSpouse = employmentOfSpouseDF.astype(\"float32\")\n",
        "employementOfSpouse.name = \"Employement of spouse, employed\"\n",
        "print(np.mean(employementOfSpouse))\n"
      ],
      "execution_count": 13,
      "outputs": [
        {
          "output_type": "stream",
          "text": [
            "0.34325867891311646\n"
          ],
          "name": "stdout"
        }
      ]
    },
    {
      "cell_type": "code",
      "metadata": {
        "id": "1fylHGPFGUgp",
        "colab_type": "code",
        "colab": {
          "base_uri": "https://localhost:8080/",
          "height": 531
        },
        "outputId": "4bdeb40a-83fb-438f-8af6-71b5667f9d21"
      },
      "source": [
        "#Number of household children below 18\n",
        "\n",
        "numOfHHChildren = df['TRCHILDNUM']\n",
        "numOfHHChildren.plot.hist(bins=12, alpha=0.5)\n",
        "numOfHHChildren = ageDf.reshape(-1, 1)\n",
        "qt_trans = QuantileTransformer(n_quantiles=1000, random_state=0)\n",
        "numOfHHChildren = pd.DataFrame(qt_trans.fit_transform(numOfHHChildren))\n",
        "numOfHHChildren.columns = ['Number of household children below 18']\n",
        "numOfHHChildren.plot.hist(bins=12, alpha=0.5)"
      ],
      "execution_count": 14,
      "outputs": [
        {
          "output_type": "execute_result",
          "data": {
            "text/plain": [
              "<matplotlib.axes._subplots.AxesSubplot at 0x7fdc2e4c14e0>"
            ]
          },
          "metadata": {
            "tags": []
          },
          "execution_count": 14
        },
        {
          "output_type": "display_data",
          "data": {
            "image/png": "[encoded data removed]",
            "text/plain": [
              "<Figure size 432x288 with 1 Axes>"
            ]
          },
          "metadata": {
            "tags": []
          }
        },
        {
          "output_type": "display_data",
          "data": {
            "image/png": "[encoded data removed]",
            "text/plain": [
              "<Figure size 432x288 with 1 Axes>"
            ]
          },
          "metadata": {
            "tags": []
          }
        }
      ]
    },
    {
      "cell_type": "code",
      "metadata": {
        "id": "nrDF6AsLqUtn",
        "colab_type": "code",
        "colab": {
          "base_uri": "https://localhost:8080/",
          "height": 69
        },
        "outputId": "6caa76df-a1bb-4d7b-c424-1d387cbb7176"
      },
      "source": [
        "#Full time or part time employment status of respondent\n",
        "\n",
        "FulltimeParttime = df['TRDPFTPT']\n",
        "FulltimeParttimeMap = {\n",
        "  1: 'Full time',\n",
        "  2: 'Part time',\n",
        "}\n",
        "MappedFulltimeParttime = FulltimeParttime.map(FulltimeParttimeMap)\n",
        "FulltimeParttime = pd.get_dummies(MappedFulltimeParttime)\n",
        "print(np.mean(FulltimeParttime))"
      ],
      "execution_count": 15,
      "outputs": [
        {
          "output_type": "stream",
          "text": [
            "Full time    0.469829\n",
            "Part time    0.129556\n",
            "dtype: float64\n"
          ],
          "name": "stdout"
        }
      ]
    },
    {
      "cell_type": "code",
      "metadata": {
        "id": "l6w9q_CArEZS",
        "colab_type": "code",
        "colab": {
          "base_uri": "https://localhost:8080/",
          "height": 531
        },
        "outputId": "14e10f8c-bbf7-4525-9779-84399b4cb997"
      },
      "source": [
        "# Weekly earnings at main job (2 implied decimals)\n",
        "\n",
        "weeklyEarnings = df['TRERNWA']\n",
        "weeklyEarnings.plot.hist(bins=20, alpha=0.5)\n",
        "weeklyEarnings = ageDf.reshape(-1, 1)\n",
        "qt_trans = QuantileTransformer(n_quantiles=1000, random_state=0)\n",
        "weeklyEarnings = pd.DataFrame(qt_trans.fit_transform(weeklyEarnings))\n",
        "weeklyEarnings.columns = ['Weekly earnings at main job (yearly rate)']\n",
        "weeklyEarnings.plot.hist(bins=20, alpha=0.5)\n"
      ],
      "execution_count": 16,
      "outputs": [
        {
          "output_type": "execute_result",
          "data": {
            "text/plain": [
              "<matplotlib.axes._subplots.AxesSubplot at 0x7fdc2e3d4e80>"
            ]
          },
          "metadata": {
            "tags": []
          },
          "execution_count": 16
        },
        {
          "output_type": "display_data",
          "data": {
            "image/png": "[encoded data removed]",
            "text/plain": [
              "<Figure size 432x288 with 1 Axes>"
            ]
          },
          "metadata": {
            "tags": []
          }
        },
        {
          "output_type": "display_data",
          "data": {
            "image/png": "[encoded data removed]",
            "text/plain": [
              "<Figure size 432x288 with 1 Axes>"
            ]
          },
          "metadata": {
            "tags": []
          }
        }
      ]
    },
    {
      "cell_type": "code",
      "metadata": {
        "id": "NGGghME7sv0T",
        "colab_type": "code",
        "colab": {
          "base_uri": "https://localhost:8080/",
          "height": 35
        },
        "outputId": "dbab921b-d5d3-483d-d7c8-bf748e66d1e8"
      },
      "source": [
        "#TRHOLIDAY\n",
        "\n",
        "# Holiday\n",
        "Holiday = df['TRHOLIDAY'] == 1\n",
        "Holiday = Holiday.astype(\"float32\")\n",
        "Holiday.name = \"Holiday\"\n",
        "print(np.mean(Holiday))"
      ],
      "execution_count": 17,
      "outputs": [
        {
          "output_type": "stream",
          "text": [
            "0.019499341025948524\n"
          ],
          "name": "stdout"
        }
      ]
    },
    {
      "cell_type": "code",
      "metadata": {
        "id": "j_CvKUBguKQE",
        "colab_type": "code",
        "colab": {
          "base_uri": "https://localhost:8080/",
          "height": 69
        },
        "outputId": "77df7e09-f28e-4af8-8188-ec70927de013"
      },
      "source": [
        "#Full time or part time employment status of spouse\n",
        "\n",
        "FulltimeParttimeSpouse = df['TRSPFTPT']\n",
        "FulltimeParttimeSpouseMap = {\n",
        "  1: 'Full time - spouse',\n",
        "  2: 'Part time - spouse',\n",
        "}\n",
        "MappedFulltimeParttimeSpouse = FulltimeParttimeSpouse.map(FulltimeParttimeSpouseMap)\n",
        "FulltimeParttimeSpouse = pd.get_dummies(MappedFulltimeParttimeSpouse)\n",
        "print(np.mean(FulltimeParttimeSpouse))"
      ],
      "execution_count": 18,
      "outputs": [
        {
          "output_type": "stream",
          "text": [
            "Full time - spouse    0.275889\n",
            "Part time - spouse    0.053228\n",
            "dtype: float64\n"
          ],
          "name": "stdout"
        }
      ]
    },
    {
      "cell_type": "code",
      "metadata": {
        "id": "uIttuVFuugwA",
        "colab_type": "code",
        "colab": {
          "base_uri": "https://localhost:8080/",
          "height": 87
        },
        "outputId": "5b85bbbd-0146-475f-85ef-2553cd891994"
      },
      "source": [
        "#Presence of the respondent's spouse or unmarried partner in the household\n",
        "\n",
        "spousePresent = df['TRSPFTPT']\n",
        "spousePresentMap = {\n",
        "  1: 'Spouse present',\n",
        "  2: 'Unmarried partner present',\n",
        "  3: 'No spouse or unmarried partner present'\n",
        "}\n",
        "MappedSpousePresent = spousePresent.map(spousePresentMap)\n",
        "spousePresent = pd.get_dummies(MappedSpousePresent)\n",
        "print(np.mean(spousePresent))"
      ],
      "execution_count": 19,
      "outputs": [
        {
          "output_type": "stream",
          "text": [
            "No spouse or unmarried partner present    0.014141\n",
            "Spouse present                            0.275889\n",
            "Unmarried partner present                 0.053228\n",
            "dtype: float64\n"
          ],
          "name": "stdout"
        }
      ]
    },
    {
      "cell_type": "code",
      "metadata": {
        "id": "GYQB-fWhxC6R",
        "colab_type": "code",
        "colab": {
          "base_uri": "https://localhost:8080/",
          "height": 531
        },
        "outputId": "98ec0b3b-55c9-4908-b3d0-c41fd84be26f"
      },
      "source": [
        "# Age of youngest household child < 18\n",
        "\n",
        "ageOfYoungest = df['TRYHHCHILD']\n",
        "ageOfYoungest.plot.hist(bins=20, alpha=0.5)\n",
        "ageOfYoungest = ageDf.reshape(-1, 1)\n",
        "qt_trans = QuantileTransformer(n_quantiles=1000, random_state=0)\n",
        "ageOfYoungest = pd.DataFrame(qt_trans.fit_transform(ageOfYoungest))\n",
        "ageOfYoungest.columns = ['Age of youngest household child below 18']\n",
        "ageOfYoungest.plot.hist(bins=20, alpha=0.5)"
      ],
      "execution_count": 20,
      "outputs": [
        {
          "output_type": "execute_result",
          "data": {
            "text/plain": [
              "<matplotlib.axes._subplots.AxesSubplot at 0x7fdc2e292748>"
            ]
          },
          "metadata": {
            "tags": []
          },
          "execution_count": 20
        },
        {
          "output_type": "display_data",
          "data": {
            "image/png": "[encoded data removed]",
            "text/plain": [
              "<Figure size 432x288 with 1 Axes>"
            ]
          },
          "metadata": {
            "tags": []
          }
        },
        {
          "output_type": "display_data",
          "data": {
            "image/png": "[encoded data removed]",
            "text/plain": [
              "<Figure size 432x288 with 1 Axes>"
            ]
          },
          "metadata": {
            "tags": []
          }
        }
      ]
    },
    {
      "cell_type": "code",
      "metadata": {
        "id": "hMbLH44zzmIV",
        "colab_type": "code",
        "colab": {
          "base_uri": "https://localhost:8080/",
          "height": 156
        },
        "outputId": "36039a91-abd1-4692-9093-60efad3e0ad3"
      },
      "source": [
        "#TUDIARYDAY\n",
        "\n",
        "diaryDay = df['TUDIARYDAY']\n",
        "diaryDayMap = {\n",
        "  1: 'Sunday',\n",
        "  2: 'Monday',\n",
        "  3: 'Tuesday',\n",
        "  4: 'Wednesday',\n",
        "  5: 'Thursday',\n",
        "  6: 'Friday', \n",
        "  7: 'Saturday'\n",
        "}\n",
        "MappedDiaryDay = diaryDay.map(diaryDayMap)\n",
        "diaryDay = pd.get_dummies(MappedDiaryDay)\n",
        "print(np.mean(diaryDay))"
      ],
      "execution_count": 21,
      "outputs": [
        {
          "output_type": "stream",
          "text": [
            "Friday       0.100747\n",
            "Monday       0.101186\n",
            "Saturday     0.237945\n",
            "Sunday       0.261221\n",
            "Thursday     0.096531\n",
            "Tuesday      0.096794\n",
            "Wednesday    0.105578\n",
            "dtype: float64\n"
          ],
          "name": "stdout"
        }
      ]
    }
  ]
}