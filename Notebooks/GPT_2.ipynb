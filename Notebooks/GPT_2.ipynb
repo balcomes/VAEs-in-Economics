{
  "nbformat": 4,
  "nbformat_minor": 0,
  "metadata": {
    "colab": {
      "name": "GPT-2.ipynb",
      "provenance": [],
      "machine_shape": "hm",
      "authorship_tag": "ABX9TyOhR7vXXrOhS3dko8B9RBu5",
      "include_colab_link": true
    },
    "kernelspec": {
      "name": "python3",
      "display_name": "Python 3"
    },
    "accelerator": "TPU"
  },
  "cells": [
    {
      "cell_type": "markdown",
      "metadata": {
        "id": "view-in-github",
        "colab_type": "text"
      },
      "source": [
        "<a href=\"https://colab.research.google.com/github/yaniv256/VAEs-in-Economics/blob/master/Notebooks/GPT_2.ipynb\" target=\"_parent\"><img src=\"https://colab.research.google.com/assets/colab-badge.svg\" alt=\"Open In Colab\"/></a>"
      ]
    },
    {
      "cell_type": "code",
      "metadata": {
        "id": "-8SNFnCgn0c9",
        "colab_type": "code",
        "outputId": "5ce299a7-30f3-44a8-9621-5c77b918ac81",
        "colab": {
          "base_uri": "https://localhost:8080/",
          "height": 34
        }
      },
      "source": [
        "!pip install -q gpt-2-simple"
      ],
      "execution_count": 0,
      "outputs": [
        {
          "output_type": "stream",
          "text": [
            "  Building wheel for gpt-2-simple (setup.py) ... \u001b[?25l\u001b[?25hdone\n"
          ],
          "name": "stdout"
        }
      ]
    },
    {
      "cell_type": "code",
      "metadata": {
        "id": "WRO3ydq8obBx",
        "colab_type": "code",
        "outputId": "e86e62f3-d05a-418d-f7d5-5ce1cb5b3f2d",
        "colab": {
          "base_uri": "https://localhost:8080/",
          "height": 153
        }
      },
      "source": [
        "import gpt_2_simple as gpt2"
      ],
      "execution_count": 0,
      "outputs": [
        {
          "output_type": "stream",
          "text": [
            "WARNING:tensorflow:\n",
            "The TensorFlow contrib module will not be included in TensorFlow 2.0.\n",
            "For more information, please see:\n",
            "  * https://github.com/tensorflow/community/blob/master/rfcs/20180907-contrib-sunset.md\n",
            "  * https://github.com/tensorflow/addons\n",
            "  * https://github.com/tensorflow/io (for I/O related ops)\n",
            "If you depend on functionality not listed there, please file an issue.\n",
            "\n"
          ],
          "name": "stdout"
        }
      ]
    },
    {
      "cell_type": "code",
      "metadata": {
        "id": "CKJ_4slSoiGq",
        "colab_type": "code",
        "colab": {}
      },
      "source": [
        "model_size = \"1558M\""
      ],
      "execution_count": 0,
      "outputs": []
    },
    {
      "cell_type": "code",
      "metadata": {
        "id": "f1krPR1dpiid",
        "colab_type": "code",
        "outputId": "06d441cb-38a1-4d8c-cd5b-fab1d6815254",
        "colab": {
          "base_uri": "https://localhost:8080/",
          "height": 136
        }
      },
      "source": [
        "gpt2.download_gpt2(model_name = model_size)"
      ],
      "execution_count": 0,
      "outputs": [
        {
          "output_type": "stream",
          "text": [
            "Fetching checkpoint: 1.05Mit [00:00, 353Mit/s]                                                      \n",
            "Fetching encoder.json: 1.05Mit [00:00, 122Mit/s]                                                    \n",
            "Fetching hparams.json: 1.05Mit [00:00, 576Mit/s]                                                    \n",
            "Fetching model.ckpt.data-00000-of-00001: 6.23Git [01:22, 75.2Mit/s]                                 \n",
            "Fetching model.ckpt.index: 1.05Mit [00:00, 569Mit/s]                                                \n",
            "Fetching model.ckpt.meta: 2.10Mit [00:00, 191Mit/s]                                                 \n",
            "Fetching vocab.bpe: 1.05Mit [00:00, 258Mit/s]                                                       \n"
          ],
          "name": "stderr"
        }
      ]
    },
    {
      "cell_type": "code",
      "metadata": {
        "id": "hk9GYraZp46W",
        "colab_type": "code",
        "colab": {}
      },
      "source": [
        "sess = gpt2.start_tf_sess()"
      ],
      "execution_count": 0,
      "outputs": []
    },
    {
      "cell_type": "code",
      "metadata": {
        "id": "IrsvWjekqWvC",
        "colab_type": "code",
        "outputId": "0016ada7-f1c0-4955-cbd5-9842aabc15ff",
        "colab": {
          "base_uri": "https://localhost:8080/",
          "height": 51
        }
      },
      "source": [
        "gpt2.load_gpt2(sess, model_name = model_size)"
      ],
      "execution_count": 0,
      "outputs": [
        {
          "output_type": "stream",
          "text": [
            "Loading pretrained model models/1558M/model.ckpt\n",
            "INFO:tensorflow:Restoring parameters from models/1558M/model.ckpt\n"
          ],
          "name": "stdout"
        }
      ]
    },
    {
      "cell_type": "code",
      "metadata": {
        "id": "IC7ChTqaqiGF",
        "colab_type": "code",
        "outputId": "d2e98268-ad87-483e-e540-8610c9d84c80",
        "colab": {
          "base_uri": "https://localhost:8080/",
          "height": 207
        }
      },
      "source": [
        "gpt2.generate(sess,\n",
        "              model_name = model_size,\n",
        "              prefix = \"For us, Twin Cities data scientists, C.H. Robinson's $1B pledge is a game-changer.\",\n",
        "              length = 100,\n",
        "              temperature = 0.5,\n",
        "              top_p = 0.9,\n",
        "              nsamples = 1, \n",
        "              batch_size = 1)"
      ],
      "execution_count": 0,
      "outputs": [
        {
          "output_type": "stream",
          "text": [
            "WARNING:tensorflow:From /usr/local/lib/python3.6/dist-packages/gpt_2_simple/src/sample.py:32: where (from tensorflow.python.ops.array_ops) is deprecated and will be removed in a future version.\n",
            "Instructions for updating:\n",
            "Use tf.where in 2.0, which has the same broadcast rule as np.where\n",
            "For us, Twin Cities data scientists, C.H. Robinson's $1B pledge is a game-changer.\n",
            "\n",
            "C.H. Robinson's first-of-its-kind investment in a new data center in the Twin Cities is a game-changer for us. It will bring the highest-quality, most reliable data to our customers, and it will also allow us to scale our operations, which is critical to our future success.\n",
            "\n",
            "We're excited to join forces with C.H. Robinson to provide our customers with the best possible data and analytics.\n",
            "\n",
            "We're excited to\n"
          ],
          "name": "stdout"
        }
      ]
    },
    {
      "cell_type": "code",
      "metadata": {
        "id": "N1PUOtGqsnGU",
        "colab_type": "code",
        "colab": {}
      },
      "source": [
        ""
      ],
      "execution_count": 0,
      "outputs": []
    }
  ]
}