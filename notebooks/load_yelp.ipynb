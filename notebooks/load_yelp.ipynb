{
  "nbformat": 4,
  "nbformat_minor": 0,
  "metadata": {
    "colab": {
      "name": "load_yelp.ipynb",
      "provenance": [],
      "authorship_tag": "ABX9TyNd3wQSpnEYmrHcQs2wTTlg",
      "include_colab_link": true
    },
    "kernelspec": {
      "name": "python3",
      "display_name": "Python 3"
    }
  },
  "cells": [
    {
      "cell_type": "markdown",
      "metadata": {
        "id": "view-in-github",
        "colab_type": "text"
      },
      "source": [
        "<a href=\"https://colab.research.google.com/github/yaniv256/VAEs-in-Economics/blob/master/notebooks/load_yelp.ipynb\" target=\"_parent\"><img src=\"https://colab.research.google.com/assets/colab-badge.svg\" alt=\"Open In Colab\"/></a>"
      ]
    },
    {
      "cell_type": "code",
      "metadata": {
        "id": "pbhB2sR80MTJ",
        "colab_type": "code",
        "colab": {}
      },
      "source": [
        "import pandas as pd\n",
        "import os\n",
        "import json\n",
        "\n",
        "print(os.listdir(\"../input\"))\n",
        "\n",
        "# We only use the first 100,000 data in this\n",
        "users = []\n",
        "with open('../input/yelp-dataset/yelp_academic_dataset_business.json') as fl:\n",
        "    for i, line in enumerate(fl):\n",
        "        users.append(json.loads(line))\n",
        "        if i+1 >= 100000:\n",
        "            break\n",
        "df = pd.DataFrame(users)\n",
        "df.head()"
      ],
      "execution_count": 0,
      "outputs": []
    }
  ]
}